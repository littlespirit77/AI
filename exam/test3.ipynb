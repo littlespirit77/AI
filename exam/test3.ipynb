{
 "cells": [
  {
   "cell_type": "code",
   "execution_count": 5,
   "metadata": {},
   "outputs": [
    {
     "name": "stdout",
     "output_type": "stream",
     "text": [
      "symboling           False\n",
      "fueltype            False\n",
      "aspiration          False\n",
      "doornumber          False\n",
      "carbody             False\n",
      "drivewheel          False\n",
      "enginelocation      False\n",
      "wheelbase           False\n",
      "carlength           False\n",
      "carwidth            False\n",
      "carheight           False\n",
      "curbweight          False\n",
      "enginetype          False\n",
      "cylindernumber      False\n",
      "enginesize          False\n",
      "fuelsystem          False\n",
      "boreratio           False\n",
      "stroke              False\n",
      "compressionratio    False\n",
      "horsepower          False\n",
      "peakrpm             False\n",
      "citympg             False\n",
      "highwaympg          False\n",
      "price               False\n",
      "dtype: bool\n",
      "[[1.         1.         0.         ... 0.22222222 0.28947368 0.20795889]\n",
      " [1.         1.         0.         ... 0.22222222 0.28947368 0.28255797]\n",
      " [0.6        1.         0.         ... 0.16666667 0.26315789 0.28255797]\n",
      " ...\n",
      " [0.2        1.         0.         ... 0.13888889 0.18421053 0.40631051]\n",
      " [0.2        0.         1.         ... 0.36111111 0.28947368 0.43076312]\n",
      " [0.2        1.         1.         ... 0.16666667 0.23684211 0.43461099]]\n"
     ]
    }
   ],
   "source": [
    "from sklearn.cluster import KMeans\n",
    "from sklearn import preprocessing\n",
    "import pandas as pd\n",
    "import matplotlib.pyplot as plt\n",
    "import numpy as np\n",
    "\n",
    "# 数据加载，除去name和ID,保留所有特征列\n",
    "data = pd.read_csv('D:/d/Zhuangwenjia D/试验报告/学习/python视频/数据分析训练营-结营考试/ProjectC/CarPrice_Assignment.csv')\n",
    "train_x = data.drop(['CarName','car_ID'],axis=1)\n",
    "pd.options.display.max_columns=100\n",
    "#检查各列有没有空值\n",
    "print(train_x.isnull().any())\n",
    "\n",
    "\n",
    "# LabelEncoder将非数字特征列转化为数字\n",
    "#从数据预处理库中载入对离散分类值进行编码的函数\n",
    "from sklearn.preprocessing import LabelEncoder\n",
    "le = LabelEncoder()\n",
    "columns = [\"fueltype\",\"aspiration\",\"doornumber\",\"carbody\",\"drivewheel\",\"enginelocation\",\"enginetype\",\"cylindernumber\",\"fuelsystem\"]\n",
    "for col in columns:\n",
    "    train_x[col] = le.fit_transform(train_x[col])\n",
    "\n",
    "\n",
    "# 所有特征规范化到 [0,1] 空间\n",
    "min_max_scaler=preprocessing.MinMaxScaler()\n",
    "train_x = min_max_scaler.fit_transform(train_x)\n",
    "print(train_x)"
   ]
  },
  {
   "cell_type": "code",
   "execution_count": 6,
   "metadata": {},
   "outputs": [
    {
     "name": "stdout",
     "output_type": "stream",
     "text": [
      "[267.45043848798235, 199.3781156723902, 163.5043203455789, 137.62909333514733, 114.94310957728499, 101.95681880918093, 93.54131126878929, 86.06098616691892, 78.99613808709745, 73.5850584601618, 71.7053452951553, 64.73668071770926, 63.37464413780856, 60.025332127971154, 57.918226118818104, 55.218458856475124, 53.03836543702076, 52.044581551601254, 50.00326481728891, 48.05326760164182, 45.59994803659343, 45.19644890953835, 42.44707341933132, 42.01154611403459, 41.25246195814988, 39.062761324492556, 37.66461920889398, 37.15646560326735, 36.290324133753586, 35.39664829096071, 33.1798460589763, 32.29403239733685, 31.69109410647499, 30.93345337758187, 29.9014039750135, 28.9618924169634, 28.366076802013602, 28.07004080551824, 26.291198702245588, 25.46755450537991, 25.82558457720269, 24.78436800413094, 23.717873580291148, 23.062468121880272, 22.44015415790009, 21.96000409767734, 21.103859539985194, 20.80271651622371, 20.26576171952113]\n"
     ]
    },
    {
     "data": {
      "image/png": "[encoded data removed]",
      "text/plain": [
       "<Figure size 432x288 with 1 Axes>"
      ]
     },
     "metadata": {
      "needs_background": "light"
     },
     "output_type": "display_data"
    }
   ],
   "source": [
    "# K-Means 手肘法：统计不同K取值的误差平方和。最有效值在k=10附近\n",
    "# 但目的是选竞品，如果分10类，一类就有近20辆车，竞品太多。\n",
    "\n",
    "sse = []\n",
    "for k in range(1, 50):\n",
    "\t# kmeans算法\n",
    "\tkmeans = KMeans(n_clusters=k)\n",
    "\tkmeans.fit(train_x)\n",
    "\t# 计算inertia簇内误差平方和\n",
    "\tsse.append(kmeans.inertia_)\n",
    "print(sse)\n",
    "x = range(1, 50)\n",
    "plt.xlabel('K')\n",
    "plt.ylabel('SSE')\n",
    "plt.plot(x, sse, 'o-')\n",
    "plt.show()"
   ]
  },
  {
   "cell_type": "code",
   "execution_count": 97,
   "metadata": {
    "scrolled": true
   },
   "outputs": [
    {
     "data": {
      "image/png": "[encoded data removed]",
      "text/plain": [
       "<Figure size 432x288 with 1 Axes>"
      ]
     },
     "metadata": {
      "needs_background": "light"
     },
     "output_type": "display_data"
    }
   ],
   "source": [
    "#一般一辆车竞品会选3到4辆车，加上自身，一个类里如果有5辆车，K约为40。最少是一辆竞品车，K约为100\n",
    "#在K取（40，100）范围内，用轮廓系数法求最优化的K值,结果K=89结果最优\n",
    "#提个问题，为什么我每次运行程序得到的最优值K都不同，是因为中心点随机的原因吗？是不是意味着我用kmeans对数据分组，其分类结果不唯一。\n",
    "from sklearn import metrics\n",
    "scor = []\n",
    "\n",
    "for k in range(40, 101):\n",
    "    kmeans = KMeans(n_clusters=k,init='k-means++',n_init=10,max_iter=500)\n",
    "    kmeans.fit(train_x)\n",
    "    scor.append(metrics.silhouette_score(train_x, kmeans.labels_,metric='euclidean'))\n",
    "                   \n",
    "plt.plot(range(40,101),scor,marker='o')\n",
    "plt.xlabel('K')\n",
    "plt.ylabel('silhouette_score')\n",
    "plt.show()"
   ]
  },
  {
   "cell_type": "code",
   "execution_count": 107,
   "metadata": {},
   "outputs": [],
   "source": [
    "#用K=89对车型进行Kmeans聚类分析\n",
    "kmeans = KMeans(n_clusters=89)\n",
    "#训练数据\n",
    "kmeans.fit(train_x)\n",
    "#预测\n",
    "predict_y = kmeans.predict(train_x)\n",
    "# 合并聚类结果，插入到原数据中\n",
    "car_cluster = pd.concat((data,pd.DataFrame(predict_y)),axis=1)\n",
    "#原来新的这列名字是0，现在改为聚类结果\n",
    "car_cluster.rename({0:u'聚类结果'},axis=1,inplace=True)\n",
    "#print(car_cluster )\n",
    "# 将分类结果导出到CSV文件中\n",
    "car_cluster.to_csv(\"D:/d/Zhuangwenjia D/试验报告/学习/python视频/数据分析训练营-结营考试/3.csv\",index=False, encoding='GBK')"
   ]
  },
  {
   "cell_type": "code",
   "execution_count": 118,
   "metadata": {},
   "outputs": [
    {
     "name": "stdout",
     "output_type": "stream",
     "text": [
      "VW品牌聚类结果\n",
      "183    32\n",
      "184     8\n",
      "185    24\n",
      "186    24\n",
      "187    67\n",
      "188    24\n",
      "191    49\n",
      "192    23\n",
      "193    86\n",
      "Name: 聚类结果, dtype: int32\n",
      "-------------------------------------------------\n",
      "VW竞品\n",
      "                          CarName  聚类结果\n",
      "5                        audi fox    32\n",
      "132                      saab 99e    32\n",
      "183  volkswagen 1131 deluxe sedan    32\n",
      "                     CarName  聚类结果\n",
      "187  volkswagen super beetle    67\n",
      "                  CarName  聚类结果\n",
      "184  volkswagen model 111     8\n",
      "                  CarName  聚类结果\n",
      "41            honda civic    49\n",
      "88   mitsubishi mirage g4    49\n",
      "191     volkswagen rabbit    49\n",
      "               CarName  聚类结果\n",
      "130       renault 12tl    86\n",
      "193  volkswagen dasher    86\n",
      "                      CarName  聚类结果\n",
      "174          toyota celica gt    23\n",
      "192  volkswagen rabbit custom    23\n",
      "                 CarName  聚类结果\n",
      "3            audi 100 ls    24\n",
      "185    volkswagen type 3    24\n",
      "186  volkswagen 411 (sw)    24\n",
      "188    volkswagen dasher    24\n"
     ]
    }
   ],
   "source": [
    "#Volkswagen车型竞品输出\n",
    "list = []\n",
    "result = []\n",
    "#定位CarName列中含有VW字符的记录，打印其聚类结果\n",
    "list = car_cluster.loc[car_cluster['CarName'].str.contains('volkswagen')]\n",
    "print(\"VW品牌聚类结果\")\n",
    "print(list['聚类结果'])\n",
    "print(\"-------------------------------------------------\")\n",
    "print(\"VW竞品\")\n",
    "#将VW聚类结果中的重复值去除，查找其他车型中聚类结果和VW品牌相同的记录，将其CarName和聚类结果添加到result列表\n",
    "for i in set(list['聚类结果']):\n",
    "    result.append(car_cluster[car_cluster['聚类结果'] == i][['CarName','聚类结果']]) \n",
    "#按各类输出竞品\n",
    "for v in range(0,7):\n",
    "    print(result[v])\n"
   ]
  }
 ],
 "metadata": {
  "kernelspec": {
   "display_name": "Python 3",
   "language": "python",
   "name": "python3"
  },
  "language_info": {
   "codemirror_mode": {
    "name": "ipython",
    "version": 3
   },
   "file_extension": ".py",
   "mimetype": "text/x-python",
   "name": "python",
   "nbconvert_exporter": "python",
   "pygments_lexer": "ipython3",
   "version": "3.7.6"
  }
 },
 "nbformat": 4,
 "nbformat_minor": 4
}
